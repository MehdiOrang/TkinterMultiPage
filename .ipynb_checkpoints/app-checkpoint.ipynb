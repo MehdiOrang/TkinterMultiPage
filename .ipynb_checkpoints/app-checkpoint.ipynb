{
 "cells": [
  {
   "cell_type": "code",
   "execution_count": 5,
   "metadata": {},
   "outputs": [
    {
     "data": {
      "image/png": "[encoded data removed]",
      "text/plain": [
       "<Figure size 432x288 with 1 Axes>"
      ]
     },
     "metadata": {
      "needs_background": "light"
     },
     "output_type": "display_data"
    }
   ],
   "source": [
    "import matplotlib.pyplot as plt\n",
    "matplotlib.use(\"\")\n",
    "import csv\n",
    "axisX =[]\n",
    "axisY =[]\n",
    "\n",
    "with open(\"output.csv\") as file:\n",
    "    reader = csv.reader(file)\n",
    "    for col in reader:\n",
    "        axisX.append(col[1])\n",
    "        axisY.append(col[0])\n",
    "plt.plot(axisX, axisY)\n",
    "plt.show()"
   ]
  },
  {
   "cell_type": "code",
   "execution_count": 4,
   "metadata": {},
   "outputs": [],
   "source": [
    "import tkinter as tk\n",
    "import matplotlib as plot\n",
    "from matplotlib import style\n",
    "from matplotlib.backends.backend_tkagg import FigureCanvasTkAgg\n",
    "from tkinter import messagebox as mb\n",
    "from tkinter import ttk \n",
    "\n",
    "\n",
    "def callback(event):\n",
    "        mb.showinfo(title=None, message='files converted'+event,icon='info')"
   ]
  },
  {
   "cell_type": "code",
   "execution_count": 6,
   "metadata": {},
   "outputs": [],
   "source": [
    "class IDI(tk.Tk):\n",
    "    def __init__(self,*args,**kwargs):\n",
    "        tk.Tk.__init__(self,*args,**kwargs)\n",
    "        \n",
    "        tk.Tk.wm_title(self,\"Data Analysis\")\n",
    "        container = tk.Frame(self)\n",
    "        container.pack(side=\"top\",fill=\"both\",expand=True)\n",
    "        container.grid_rowconfigure(0,weight=1)\n",
    "        container.grid_columnconfigure(0,weight=1)\n",
    "        self.frames={}\n",
    "        for F in (StartPage,DigiGraphPage,StructuredDataPage):\n",
    "            frame = F(container,self)\n",
    "            self.frames[F] = frame\n",
    "            frame.grid(row=0,column=0,sticky=\"nsew\")\n",
    "        self.show_frame(StartPage)\n",
    "    \n",
    "    def show_frame(self,cont):\n",
    "        frame = self.frames[cont]\n",
    "        frame.tkraise()\n",
    "        \n",
    "        \n"
   ]
  },
  {
   "cell_type": "code",
   "execution_count": 7,
   "metadata": {},
   "outputs": [],
   "source": [
    "class StartPage(tk.Frame):\n",
    "    def __init__(self,parent,controller):\n",
    "        tk.Frame.__init__(self,parent)\n",
    "        label = tk.Label(\n",
    "        self,\n",
    "        text=\"Welcome to\\n \\n ...\",\n",
    "        foreground=\"orange\",  # Set the text color to white\n",
    "        background=\"black\" ,  # Set the background color to black\n",
    "        width=50,\n",
    "        height=5,\n",
    "        )\n",
    "        label.pack()\n",
    "        \n",
    "        button1 = tk.Button(\n",
    "            self,\n",
    "            width=30,\n",
    "            height=3,\n",
    "            text=\"Digitize Graph\",\n",
    "            command=lambda : controller.show_frame(DigiGraphPage)\n",
    "        )\n",
    "        button2 = tk.Button(\n",
    "            self,\n",
    "            text=\"Structured Data\",\n",
    "            width=30,\n",
    "            height=3,\n",
    "            command=lambda : controller.show_frame(StructuredDataPage)\n",
    "        )\n",
    "        button1.pack(pady=10,padx=10)\n",
    "        button2.pack(pady=10,padx=10)"
   ]
  },
  {
   "cell_type": "code",
   "execution_count": 8,
   "metadata": {},
   "outputs": [],
   "source": [
    "class DigiGraphPage(tk.Frame):\n",
    "    def __init__(self,parent,controller):\n",
    "        tk.Frame.__init__(self,parent)\n",
    "        label = tk.Label(\n",
    "        self,\n",
    "        text=\"Digitize Graph Section\",\n",
    "        foreground=\"orange\",  # Set the text color to white\n",
    "        background=\"black\" ,  # Set the background color to black\n",
    "        width=50,\n",
    "        height=5,\n",
    "        )\n",
    "        label.pack()\n",
    "        \n",
    "        button1 = tk.Button(\n",
    "            self,\n",
    "            fg=\"blue\",\n",
    "            text=\"Digitize Graph\",\n",
    "            width=30,\n",
    "            height=3,\n",
    "        )\n",
    "        button2 = tk.Button(\n",
    "            self,\n",
    "            fg=\"blue\",\n",
    "            text=\"Main Page\",\n",
    "            width=30,\n",
    "            height=3,\n",
    "            command=lambda : controller.show_frame(StartPage)\n",
    "        )\n",
    "        button1.pack(pady=10,padx=10)\n",
    "        button2.pack(pady=10,padx=10)"
   ]
  },
  {
   "cell_type": "code",
   "execution_count": 9,
   "metadata": {},
   "outputs": [],
   "source": [
    "class StructuredDataPage(tk.Frame):\n",
    "    def __init__(self,parent,controller):\n",
    "        tk.Frame.__init__(self,parent)\n",
    "        label = tk.Label(\n",
    "        self,\n",
    "        text=\"Structured Files and Data Section\",\n",
    "        foreground=\"orange\",  # Set the text color to white\n",
    "        background=\"black\" ,  # Set the background color to black\n",
    "        width=50,\n",
    "        height=5,\n",
    "        )\n",
    "        label.pack()\n",
    "        \n",
    "        button1 = tk.Button(\n",
    "            self,\n",
    "            fg=\"blue\",\n",
    "            text=\"Digitize Graph\",\n",
    "            width=30,\n",
    "            height=3,\n",
    "        )\n",
    "        \n",
    "        button2 = tk.Button(\n",
    "            self,\n",
    "            fg=\"blue\",\n",
    "            text=\"Main Page\",\n",
    "            width=30,\n",
    "            height=3,\n",
    "            command=lambda : controller.show_frame(StartPage)\n",
    "        )\n",
    "        button1.pack(pady=10,padx=10)\n",
    "        button2.pack(pady=10,padx=10)"
   ]
  },
  {
   "cell_type": "code",
   "execution_count": 10,
   "metadata": {
    "scrolled": true
   },
   "outputs": [],
   "source": [
    "app = IDI()\n",
    "app.mainloop()"
   ]
  }
 ],
 "metadata": {
  "kernelspec": {
   "display_name": "Python 3",
   "language": "python",
   "name": "python3"
  },
  "language_info": {
   "codemirror_mode": {
    "name": "ipython",
    "version": 3
   },
   "file_extension": ".py",
   "mimetype": "text/x-python",
   "name": "python",
   "nbconvert_exporter": "python",
   "pygments_lexer": "ipython3",
   "version": "3.7.6"
  }
 },
 "nbformat": 4,
 "nbformat_minor": 2
}
